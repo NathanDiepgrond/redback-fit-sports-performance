{
 "cells": [
  {
   "cell_type": "code",
   "execution_count": 9,
   "id": "5e95e13e-ad01-4af4-a1d4-babfe86aedb7",
   "metadata": {},
   "outputs": [
    {
     "data": {
      "text/html": [
       "<div>\n",
       "<style scoped>\n",
       "    .dataframe tbody tr th:only-of-type {\n",
       "        vertical-align: middle;\n",
       "    }\n",
       "\n",
       "    .dataframe tbody tr th {\n",
       "        vertical-align: top;\n",
       "    }\n",
       "\n",
       "    .dataframe thead th {\n",
       "        text-align: right;\n",
       "    }\n",
       "</style>\n",
       "<table border=\"1\" class=\"dataframe\">\n",
       "  <thead>\n",
       "    <tr style=\"text-align: right;\">\n",
       "      <th></th>\n",
       "      <th>Activity ID</th>\n",
       "      <th>Activity Type</th>\n",
       "      <th>Begin Timestamp</th>\n",
       "      <th>End Timestamp</th>\n",
       "      <th>Max. Elevation (Raw)</th>\n",
       "      <th>Min. Elevation (Raw)</th>\n",
       "      <th>Elevation Gain (Raw)</th>\n",
       "      <th>Elevation Loss (Raw)</th>\n",
       "      <th>Average Heart Rate (bpm)</th>\n",
       "      <th>Min. Heart Rate (bpm)</th>\n",
       "      <th>...</th>\n",
       "      <th>Wind Speed (Raw)</th>\n",
       "      <th>Wind Direction</th>\n",
       "      <th>Humidity (Raw)</th>\n",
       "      <th>Condition</th>\n",
       "      <th>Rainfall</th>\n",
       "      <th>Duration (seconds)</th>\n",
       "      <th>Moving Duration (seconds)</th>\n",
       "      <th>GPX Min Heart Rate</th>\n",
       "      <th>Max. Heart Rate (bpm)</th>\n",
       "      <th>Average Cadence</th>\n",
       "    </tr>\n",
       "  </thead>\n",
       "  <tbody>\n",
       "    <tr>\n",
       "      <th>0</th>\n",
       "      <td>1199436564</td>\n",
       "      <td>Running</td>\n",
       "      <td>01-01-2015 03:34</td>\n",
       "      <td>05-06-2016 12:48</td>\n",
       "      <td>260.36</td>\n",
       "      <td>246.600006</td>\n",
       "      <td>5.88</td>\n",
       "      <td>18.73</td>\n",
       "      <td>172.698166</td>\n",
       "      <td>100.334768</td>\n",
       "      <td>...</td>\n",
       "      <td>10</td>\n",
       "      <td>N</td>\n",
       "      <td>65</td>\n",
       "      <td>fair</td>\n",
       "      <td>no</td>\n",
       "      <td>1901</td>\n",
       "      <td>2094296</td>\n",
       "      <td>NaN</td>\n",
       "      <td>191.833686</td>\n",
       "      <td>78.659341</td>\n",
       "    </tr>\n",
       "    <tr>\n",
       "      <th>1</th>\n",
       "      <td>908332579</td>\n",
       "      <td>Running</td>\n",
       "      <td>24-09-2015 12:55</td>\n",
       "      <td>24-09-2015 13:16</td>\n",
       "      <td>307.23</td>\n",
       "      <td>247.000000</td>\n",
       "      <td>62.46</td>\n",
       "      <td>64.20</td>\n",
       "      <td>186.000000</td>\n",
       "      <td>115.000000</td>\n",
       "      <td>...</td>\n",
       "      <td>8</td>\n",
       "      <td>WSW</td>\n",
       "      <td>59</td>\n",
       "      <td>mostly clear</td>\n",
       "      <td>no</td>\n",
       "      <td>1275</td>\n",
       "      <td>1275</td>\n",
       "      <td>115.0</td>\n",
       "      <td>201.000000</td>\n",
       "      <td>76.747191</td>\n",
       "    </tr>\n",
       "    <tr>\n",
       "      <th>2</th>\n",
       "      <td>912662907</td>\n",
       "      <td>Running</td>\n",
       "      <td>28-09-2015 17:19</td>\n",
       "      <td>28-09-2015 17:39</td>\n",
       "      <td>308.37</td>\n",
       "      <td>247.000000</td>\n",
       "      <td>52.29</td>\n",
       "      <td>55.11</td>\n",
       "      <td>174.000000</td>\n",
       "      <td>70.000000</td>\n",
       "      <td>...</td>\n",
       "      <td>21</td>\n",
       "      <td>O</td>\n",
       "      <td>34</td>\n",
       "      <td>fair</td>\n",
       "      <td>no</td>\n",
       "      <td>1232</td>\n",
       "      <td>1227</td>\n",
       "      <td>70.0</td>\n",
       "      <td>199.000000</td>\n",
       "      <td>76.079365</td>\n",
       "    </tr>\n",
       "    <tr>\n",
       "      <th>3</th>\n",
       "      <td>1203784563</td>\n",
       "      <td>Running</td>\n",
       "      <td>07-06-2016 09:10</td>\n",
       "      <td>07-06-2016 09:42</td>\n",
       "      <td>309.47</td>\n",
       "      <td>245.399994</td>\n",
       "      <td>70.94</td>\n",
       "      <td>73.86</td>\n",
       "      <td>175.139734</td>\n",
       "      <td>99.560322</td>\n",
       "      <td>...</td>\n",
       "      <td>2</td>\n",
       "      <td>N</td>\n",
       "      <td>73</td>\n",
       "      <td>fair</td>\n",
       "      <td>no</td>\n",
       "      <td>1903</td>\n",
       "      <td>1880</td>\n",
       "      <td>NaN</td>\n",
       "      <td>194.162504</td>\n",
       "      <td>77.991701</td>\n",
       "    </tr>\n",
       "    <tr>\n",
       "      <th>4</th>\n",
       "      <td>1205026379</td>\n",
       "      <td>Running</td>\n",
       "      <td>09-06-2016 14:56</td>\n",
       "      <td>09-06-2016 15:17</td>\n",
       "      <td>308.59</td>\n",
       "      <td>247.000000</td>\n",
       "      <td>67.47</td>\n",
       "      <td>69.46</td>\n",
       "      <td>179.201851</td>\n",
       "      <td>100.011382</td>\n",
       "      <td>...</td>\n",
       "      <td>14</td>\n",
       "      <td>N</td>\n",
       "      <td>53</td>\n",
       "      <td>mostly clear</td>\n",
       "      <td>no</td>\n",
       "      <td>1270</td>\n",
       "      <td>1260</td>\n",
       "      <td>NaN</td>\n",
       "      <td>198.932464</td>\n",
       "      <td>77.173410</td>\n",
       "    </tr>\n",
       "  </tbody>\n",
       "</table>\n",
       "<p>5 rows × 33 columns</p>\n",
       "</div>"
      ],
      "text/plain": [
       "   Activity ID Activity Type   Begin Timestamp     End Timestamp  \\\n",
       "0   1199436564       Running  01-01-2015 03:34  05-06-2016 12:48   \n",
       "1    908332579       Running  24-09-2015 12:55  24-09-2015 13:16   \n",
       "2    912662907       Running  28-09-2015 17:19  28-09-2015 17:39   \n",
       "3   1203784563       Running  07-06-2016 09:10  07-06-2016 09:42   \n",
       "4   1205026379       Running  09-06-2016 14:56  09-06-2016 15:17   \n",
       "\n",
       "   Max. Elevation (Raw)  Min. Elevation (Raw)  Elevation Gain (Raw)  \\\n",
       "0                260.36            246.600006                  5.88   \n",
       "1                307.23            247.000000                 62.46   \n",
       "2                308.37            247.000000                 52.29   \n",
       "3                309.47            245.399994                 70.94   \n",
       "4                308.59            247.000000                 67.47   \n",
       "\n",
       "   Elevation Loss (Raw)  Average Heart Rate (bpm)  Min. Heart Rate (bpm)  ...  \\\n",
       "0                 18.73                172.698166             100.334768  ...   \n",
       "1                 64.20                186.000000             115.000000  ...   \n",
       "2                 55.11                174.000000              70.000000  ...   \n",
       "3                 73.86                175.139734              99.560322  ...   \n",
       "4                 69.46                179.201851             100.011382  ...   \n",
       "\n",
       "   Wind Speed (Raw)  Wind Direction  Humidity (Raw)     Condition Rainfall  \\\n",
       "0                10               N              65          fair       no   \n",
       "1                 8             WSW              59  mostly clear       no   \n",
       "2                21               O              34          fair       no   \n",
       "3                 2               N              73          fair       no   \n",
       "4                14               N              53  mostly clear       no   \n",
       "\n",
       "  Duration (seconds)  Moving Duration (seconds) GPX Min Heart Rate  \\\n",
       "0               1901                    2094296                NaN   \n",
       "1               1275                       1275              115.0   \n",
       "2               1232                       1227               70.0   \n",
       "3               1903                       1880                NaN   \n",
       "4               1270                       1260                NaN   \n",
       "\n",
       "   Max. Heart Rate (bpm)  Average Cadence  \n",
       "0             191.833686        78.659341  \n",
       "1             201.000000        76.747191  \n",
       "2             199.000000        76.079365  \n",
       "3             194.162504        77.991701  \n",
       "4             198.932464        77.173410  \n",
       "\n",
       "[5 rows x 33 columns]"
      ]
     },
     "execution_count": 9,
     "metadata": {},
     "output_type": "execute_result"
    }
   ],
   "source": [
    "import pandas as pd\n",
    "\n",
    "# Load the dataset\n",
    "df = pd.read_csv(\"C:/Users/manas/OneDrive/Documents/Fixed_cleaned_activities.csv\")\n",
    "\n",
    "# View first few rows\n",
    "df.head()"
   ]
  },
  {
   "cell_type": "code",
   "execution_count": 10,
   "id": "a7a66628-4aec-44fe-a8ba-cd4ae39e04a3",
   "metadata": {},
   "outputs": [
    {
     "name": "stdout",
     "output_type": "stream",
     "text": [
      "Missing values:\n",
      " GPX Min Heart Rate    64\n",
      "dtype: int64\n"
     ]
    }
   ],
   "source": [
    "# Check for missing values in each column\n",
    "missing = df.isnull().sum()\n",
    "print(\"Missing values:\\n\", missing[missing > 0])"
   ]
  },
  {
   "cell_type": "code",
   "execution_count": 11,
   "id": "4fe9eca8-1d24-40cc-af17-19aef6fa1960",
   "metadata": {},
   "outputs": [],
   "source": [
    "df.drop(columns=['GPX Min Heart Rate'], inplace=True)"
   ]
  },
  {
   "cell_type": "code",
   "execution_count": 12,
   "id": "6436215f-e00b-4323-9bcd-46abeb2ed1a2",
   "metadata": {},
   "outputs": [
    {
     "name": "stdout",
     "output_type": "stream",
     "text": [
      "Missing values:\n",
      " Series([], dtype: int64)\n"
     ]
    }
   ],
   "source": [
    "# Check for missing values in each column\n",
    "missing = df.isnull().sum()\n",
    "print(\"Missing values:\\n\", missing[missing > 0])"
   ]
  },
  {
   "cell_type": "code",
   "execution_count": 13,
   "id": "0621cb56-e956-4eae-a07d-22b85121db8e",
   "metadata": {},
   "outputs": [
    {
     "data": {
      "text/html": [
       "<div>\n",
       "<style scoped>\n",
       "    .dataframe tbody tr th:only-of-type {\n",
       "        vertical-align: middle;\n",
       "    }\n",
       "\n",
       "    .dataframe tbody tr th {\n",
       "        vertical-align: top;\n",
       "    }\n",
       "\n",
       "    .dataframe thead th {\n",
       "        text-align: right;\n",
       "    }\n",
       "</style>\n",
       "<table border=\"1\" class=\"dataframe\">\n",
       "  <thead>\n",
       "    <tr style=\"text-align: right;\">\n",
       "      <th></th>\n",
       "      <th>Elevation Gain (Raw)</th>\n",
       "      <th>Terrain Type</th>\n",
       "    </tr>\n",
       "  </thead>\n",
       "  <tbody>\n",
       "    <tr>\n",
       "      <th>0</th>\n",
       "      <td>5.88</td>\n",
       "      <td>Flat</td>\n",
       "    </tr>\n",
       "    <tr>\n",
       "      <th>1</th>\n",
       "      <td>62.46</td>\n",
       "      <td>Moderate</td>\n",
       "    </tr>\n",
       "    <tr>\n",
       "      <th>2</th>\n",
       "      <td>52.29</td>\n",
       "      <td>Moderate</td>\n",
       "    </tr>\n",
       "    <tr>\n",
       "      <th>3</th>\n",
       "      <td>70.94</td>\n",
       "      <td>Moderate</td>\n",
       "    </tr>\n",
       "    <tr>\n",
       "      <th>4</th>\n",
       "      <td>67.47</td>\n",
       "      <td>Moderate</td>\n",
       "    </tr>\n",
       "    <tr>\n",
       "      <th>5</th>\n",
       "      <td>51.54</td>\n",
       "      <td>Moderate</td>\n",
       "    </tr>\n",
       "    <tr>\n",
       "      <th>6</th>\n",
       "      <td>69.82</td>\n",
       "      <td>Moderate</td>\n",
       "    </tr>\n",
       "    <tr>\n",
       "      <th>7</th>\n",
       "      <td>74.06</td>\n",
       "      <td>Moderate</td>\n",
       "    </tr>\n",
       "    <tr>\n",
       "      <th>8</th>\n",
       "      <td>81.66</td>\n",
       "      <td>Moderate</td>\n",
       "    </tr>\n",
       "    <tr>\n",
       "      <th>9</th>\n",
       "      <td>70.82</td>\n",
       "      <td>Moderate</td>\n",
       "    </tr>\n",
       "    <tr>\n",
       "      <th>10</th>\n",
       "      <td>85.03</td>\n",
       "      <td>Moderate</td>\n",
       "    </tr>\n",
       "    <tr>\n",
       "      <th>11</th>\n",
       "      <td>66.64</td>\n",
       "      <td>Moderate</td>\n",
       "    </tr>\n",
       "    <tr>\n",
       "      <th>12</th>\n",
       "      <td>62.47</td>\n",
       "      <td>Moderate</td>\n",
       "    </tr>\n",
       "    <tr>\n",
       "      <th>13</th>\n",
       "      <td>72.53</td>\n",
       "      <td>Moderate</td>\n",
       "    </tr>\n",
       "    <tr>\n",
       "      <th>14</th>\n",
       "      <td>70.87</td>\n",
       "      <td>Moderate</td>\n",
       "    </tr>\n",
       "    <tr>\n",
       "      <th>15</th>\n",
       "      <td>89.20</td>\n",
       "      <td>Moderate</td>\n",
       "    </tr>\n",
       "    <tr>\n",
       "      <th>16</th>\n",
       "      <td>139.73</td>\n",
       "      <td>Moderate</td>\n",
       "    </tr>\n",
       "    <tr>\n",
       "      <th>17</th>\n",
       "      <td>169.35</td>\n",
       "      <td>Hilly</td>\n",
       "    </tr>\n",
       "    <tr>\n",
       "      <th>18</th>\n",
       "      <td>72.45</td>\n",
       "      <td>Moderate</td>\n",
       "    </tr>\n",
       "    <tr>\n",
       "      <th>19</th>\n",
       "      <td>84.03</td>\n",
       "      <td>Moderate</td>\n",
       "    </tr>\n",
       "    <tr>\n",
       "      <th>20</th>\n",
       "      <td>67.94</td>\n",
       "      <td>Moderate</td>\n",
       "    </tr>\n",
       "    <tr>\n",
       "      <th>21</th>\n",
       "      <td>63.85</td>\n",
       "      <td>Moderate</td>\n",
       "    </tr>\n",
       "    <tr>\n",
       "      <th>22</th>\n",
       "      <td>68.70</td>\n",
       "      <td>Moderate</td>\n",
       "    </tr>\n",
       "    <tr>\n",
       "      <th>23</th>\n",
       "      <td>70.44</td>\n",
       "      <td>Moderate</td>\n",
       "    </tr>\n",
       "    <tr>\n",
       "      <th>24</th>\n",
       "      <td>68.01</td>\n",
       "      <td>Moderate</td>\n",
       "    </tr>\n",
       "  </tbody>\n",
       "</table>\n",
       "</div>"
      ],
      "text/plain": [
       "    Elevation Gain (Raw) Terrain Type\n",
       "0                   5.88         Flat\n",
       "1                  62.46     Moderate\n",
       "2                  52.29     Moderate\n",
       "3                  70.94     Moderate\n",
       "4                  67.47     Moderate\n",
       "5                  51.54     Moderate\n",
       "6                  69.82     Moderate\n",
       "7                  74.06     Moderate\n",
       "8                  81.66     Moderate\n",
       "9                  70.82     Moderate\n",
       "10                 85.03     Moderate\n",
       "11                 66.64     Moderate\n",
       "12                 62.47     Moderate\n",
       "13                 72.53     Moderate\n",
       "14                 70.87     Moderate\n",
       "15                 89.20     Moderate\n",
       "16                139.73     Moderate\n",
       "17                169.35        Hilly\n",
       "18                 72.45     Moderate\n",
       "19                 84.03     Moderate\n",
       "20                 67.94     Moderate\n",
       "21                 63.85     Moderate\n",
       "22                 68.70     Moderate\n",
       "23                 70.44     Moderate\n",
       "24                 68.01     Moderate"
      ]
     },
     "execution_count": 13,
     "metadata": {},
     "output_type": "execute_result"
    }
   ],
   "source": [
    "# Classify terrain based on elevation gain\n",
    "def classify_terrain(elevation_gain):\n",
    "    if elevation_gain < 50:\n",
    "        return 'Flat'\n",
    "    elif 50 <= elevation_gain < 150:\n",
    "        return 'Moderate'\n",
    "    else:\n",
    "        return 'Hilly'\n",
    "\n",
    "df['Terrain Type'] = df['Elevation Gain (Raw)'].apply(classify_terrain)\n",
    "\n",
    "# Preview terrain classification\n",
    "df[['Elevation Gain (Raw)', 'Terrain Type']].head(25)"
   ]
  },
  {
   "cell_type": "code",
   "execution_count": 14,
   "id": "38f28960-2cd6-4502-abe9-5346c15d1431",
   "metadata": {},
   "outputs": [
    {
     "data": {
      "text/html": [
       "<div>\n",
       "<style scoped>\n",
       "    .dataframe tbody tr th:only-of-type {\n",
       "        vertical-align: middle;\n",
       "    }\n",
       "\n",
       "    .dataframe tbody tr th {\n",
       "        vertical-align: top;\n",
       "    }\n",
       "\n",
       "    .dataframe thead th {\n",
       "        text-align: right;\n",
       "    }\n",
       "</style>\n",
       "<table border=\"1\" class=\"dataframe\">\n",
       "  <thead>\n",
       "    <tr style=\"text-align: right;\">\n",
       "      <th></th>\n",
       "      <th>Average Speed</th>\n",
       "      <th>Average Heart Rate (bpm)</th>\n",
       "      <th>Average Cadence</th>\n",
       "    </tr>\n",
       "    <tr>\n",
       "      <th>Terrain Type</th>\n",
       "      <th></th>\n",
       "      <th></th>\n",
       "      <th></th>\n",
       "    </tr>\n",
       "  </thead>\n",
       "  <tbody>\n",
       "    <tr>\n",
       "      <th>Flat</th>\n",
       "      <td>10.834570</td>\n",
       "      <td>167.436924</td>\n",
       "      <td>80.769145</td>\n",
       "    </tr>\n",
       "    <tr>\n",
       "      <th>Hilly</th>\n",
       "      <td>9.529827</td>\n",
       "      <td>173.666670</td>\n",
       "      <td>78.742184</td>\n",
       "    </tr>\n",
       "    <tr>\n",
       "      <th>Moderate</th>\n",
       "      <td>10.975408</td>\n",
       "      <td>175.038088</td>\n",
       "      <td>79.561197</td>\n",
       "    </tr>\n",
       "  </tbody>\n",
       "</table>\n",
       "</div>"
      ],
      "text/plain": [
       "              Average Speed  Average Heart Rate (bpm)  Average Cadence\n",
       "Terrain Type                                                          \n",
       "Flat              10.834570                167.436924        80.769145\n",
       "Hilly              9.529827                173.666670        78.742184\n",
       "Moderate          10.975408                175.038088        79.561197"
      ]
     },
     "execution_count": 14,
     "metadata": {},
     "output_type": "execute_result"
    }
   ],
   "source": [
    "# Group by terrain and calculate averages\n",
    "performance = df.groupby('Terrain Type')[['Average Speed', 'Average Heart Rate (bpm)', 'Average Cadence']].mean()\n",
    "performance"
   ]
  },
  {
   "cell_type": "code",
   "execution_count": 15,
   "id": "d2a53e03-00fb-46b2-838a-8d59a8765f05",
   "metadata": {},
   "outputs": [
    {
     "data": {
      "text/html": [
       "<div>\n",
       "<style scoped>\n",
       "    .dataframe tbody tr th:only-of-type {\n",
       "        vertical-align: middle;\n",
       "    }\n",
       "\n",
       "    .dataframe tbody tr th {\n",
       "        vertical-align: top;\n",
       "    }\n",
       "\n",
       "    .dataframe thead th {\n",
       "        text-align: right;\n",
       "    }\n",
       "</style>\n",
       "<table border=\"1\" class=\"dataframe\">\n",
       "  <thead>\n",
       "    <tr style=\"text-align: right;\">\n",
       "      <th></th>\n",
       "      <th>Average Speed</th>\n",
       "      <th>Average Heart Rate (bpm)</th>\n",
       "      <th>Average Cadence</th>\n",
       "      <th>Duration (seconds)</th>\n",
       "      <th>Elevation Gain (Raw)</th>\n",
       "    </tr>\n",
       "    <tr>\n",
       "      <th>Terrain Type</th>\n",
       "      <th></th>\n",
       "      <th></th>\n",
       "      <th></th>\n",
       "      <th></th>\n",
       "      <th></th>\n",
       "    </tr>\n",
       "  </thead>\n",
       "  <tbody>\n",
       "    <tr>\n",
       "      <th>Flat</th>\n",
       "      <td>10.834570</td>\n",
       "      <td>167.436924</td>\n",
       "      <td>80.769145</td>\n",
       "      <td>2035.461538</td>\n",
       "      <td>10.428462</td>\n",
       "    </tr>\n",
       "    <tr>\n",
       "      <th>Hilly</th>\n",
       "      <td>9.529827</td>\n",
       "      <td>173.666670</td>\n",
       "      <td>78.742184</td>\n",
       "      <td>3156.893333</td>\n",
       "      <td>257.672933</td>\n",
       "    </tr>\n",
       "    <tr>\n",
       "      <th>Moderate</th>\n",
       "      <td>10.975408</td>\n",
       "      <td>175.038088</td>\n",
       "      <td>79.561197</td>\n",
       "      <td>1622.089552</td>\n",
       "      <td>75.186567</td>\n",
       "    </tr>\n",
       "  </tbody>\n",
       "</table>\n",
       "</div>"
      ],
      "text/plain": [
       "              Average Speed  Average Heart Rate (bpm)  Average Cadence  \\\n",
       "Terrain Type                                                             \n",
       "Flat              10.834570                167.436924        80.769145   \n",
       "Hilly              9.529827                173.666670        78.742184   \n",
       "Moderate          10.975408                175.038088        79.561197   \n",
       "\n",
       "              Duration (seconds)  Elevation Gain (Raw)  \n",
       "Terrain Type                                            \n",
       "Flat                 2035.461538             10.428462  \n",
       "Hilly                3156.893333            257.672933  \n",
       "Moderate             1622.089552             75.186567  "
      ]
     },
     "execution_count": 15,
     "metadata": {},
     "output_type": "execute_result"
    }
   ],
   "source": [
    "performance = df.groupby('Terrain Type')[\n",
    "    ['Average Speed', 'Average Heart Rate (bpm)', 'Average Cadence',\n",
    "     'Duration (seconds)', 'Elevation Gain (Raw)']\n",
    "].mean()\n",
    "performance"
   ]
  },
  {
   "cell_type": "code",
   "execution_count": 16,
   "id": "6e4bd18c-2d54-43ad-a373-1ea501783f74",
   "metadata": {},
   "outputs": [
    {
     "name": "stdout",
     "output_type": "stream",
     "text": [
      "Training Goal to Terrain Type Mapping:\n",
      "Recovery        → Flat\n",
      "Endurance       → Moderate\n",
      "Hill Training   → Hilly\n"
     ]
    }
   ],
   "source": [
    "# Define a mapping between training goals and suitable terrain types\n",
    "goal_to_terrain = {\n",
    "    'recovery': 'Flat',         # Easy effort on flat terrain for muscle recovery\n",
    "    'endurance': 'Moderate',    # Sustained effort on mildly hilly terrain to build stamina\n",
    "    'hill training': 'Hilly'    # High-intensity training on steep terrain to build strength\n",
    "}\n",
    "\n",
    "# Print the mapping to verify\n",
    "print(\"Training Goal to Terrain Type Mapping:\")\n",
    "for goal, terrain in goal_to_terrain.items():\n",
    "    print(f\"{goal.title():<15} → {terrain}\")"
   ]
  },
  {
   "cell_type": "code",
   "execution_count": 17,
   "id": "7aed057a-946e-41df-9ca6-98bfe57b74a3",
   "metadata": {},
   "outputs": [
    {
     "name": "stdout",
     "output_type": "stream",
     "text": [
      "Endurance Runs:\n",
      "       Begin Timestamp  Distance (Raw)  Average Speed Terrain Type\n",
      "1    24-09-2015 12:55         3.37103       9.523810     Moderate\n",
      "2    28-09-2015 17:19         3.39513       9.917355     Moderate\n",
      "3    07-06-2016 09:10         4.94082       9.350649     Moderate\n",
      "4    09-06-2016 14:56         3.55580      10.084034     Moderate\n",
      "5    11-06-2016 10:05         4.98479       9.972299     Moderate\n",
      "..                ...             ...            ...          ...\n",
      "93   26-02-2017 13:39         5.14983      11.111111     Moderate\n",
      "94   11-03-2017 09:28         5.06357      11.285266     Moderate\n",
      "98   19-03-2017 16:07         5.04683      11.650485     Moderate\n",
      "110  04-05-2017 13:56         3.76345      11.076923     Moderate\n",
      "112  07-05-2017 10:31         6.71703      11.538462     Moderate\n",
      "\n",
      "[67 rows x 4 columns]\n",
      "\n",
      "Recovery Runs:\n",
      "       Begin Timestamp  Distance (Raw)  Average Speed Terrain Type\n",
      "0    01-01-2015 03:34         4.96411       9.399478         Flat\n",
      "36   06-08-2016 09:19         5.30312      11.960133         Flat\n",
      "37   07-08-2016 09:26         5.31054      11.111111         Flat\n",
      "66   03-10-2016 16:36         4.93589      12.328767         Flat\n",
      "107  24-04-2017 06:10         8.86663       9.890110         Flat\n",
      "108  25-04-2017 06:00         6.80645      10.876133         Flat\n",
      "109  30-04-2017 11:29         5.21374      12.244898         Flat\n",
      "128  08-07-2017 10:04         2.71353       4.215457         Flat\n",
      "137  19-08-2017 13:01         4.15740      12.371134         Flat\n",
      "138  20-08-2017 11:05         8.23837      11.881188         Flat\n",
      "139  21-08-2017 17:25         3.44782      12.413793         Flat\n",
      "140  22-08-2017 10:49        10.76584      11.214953         Flat\n",
      "141  24-08-2017 16:46         5.46340      10.942249         Flat\n",
      "\n",
      "Hill Training Runs:\n",
      "       Begin Timestamp  Distance (Raw)  Average Speed Terrain Type\n",
      "17   28-06-2016 17:24         6.69202       9.809264        Hilly\n",
      "25   15-07-2016 13:18         6.38675       9.917355        Hilly\n",
      "26   17-07-2016 10:06         7.28608       9.302326        Hilly\n",
      "29   23-07-2016 08:57         6.01880       8.695652        Hilly\n",
      "32   30-07-2016 08:28         7.52721       9.090909        Hilly\n",
      "..                ...             ...            ...          ...\n",
      "150  02-10-2017 14:51         7.81321       9.972299        Hilly\n",
      "151  13-10-2017 11:53         7.75709       9.703504        Hilly\n",
      "152  25-10-2017 16:31         6.60755      10.227273        Hilly\n",
      "153  03-11-2017 09:47         7.62835       9.523810        Hilly\n",
      "154  04-11-2017 12:07         8.66881       8.845209        Hilly\n",
      "\n",
      "[75 rows x 4 columns]\n"
     ]
    }
   ],
   "source": [
    "# Function to recommend past runs by goal\n",
    "def recommend_runs(goal):\n",
    "    terrain = goal_to_terrain.get(goal.lower())\n",
    "    if terrain:\n",
    "        return df[df['Terrain Type'] == terrain][[\n",
    "            'Begin Timestamp', 'Distance (Raw)', 'Average Speed', 'Terrain Type'\n",
    "        ]]\n",
    "    else:\n",
    "        return f\"Invalid goal. Choose from: {list(goal_to_terrain.keys())}\"\n",
    "\n",
    "# # Past Run Recommendations\n",
    "print(\"Endurance Runs:\\n\", recommend_runs('endurance'))\n",
    "print(\"\\nRecovery Runs:\\n\", recommend_runs('recovery'))\n",
    "print(\"\\nHill Training Runs:\\n\", recommend_runs('hill training'))\n"
   ]
  },
  {
   "cell_type": "code",
   "execution_count": 19,
   "id": "1691a7c2-276c-4460-ad75-cc1c80bfa2b2",
   "metadata": {},
   "outputs": [
    {
     "data": {
      "application/vnd.plotly.v1+json": {
       "config": {
        "plotlyServerURL": "https://plot.ly"
       },
       "data": [
        {
         "customdata": [
          [
           "01-01-2015 03:34",
           4.96411,
           9.399477807
          ],
          [
           "06-08-2016 09:19",
           5.30312,
           11.96013289
          ],
          [
           "07-08-2016 09:26",
           5.31054,
           11.11111111
          ],
          [
           "03-10-2016 16:36",
           4.93589,
           12.32876712
          ],
          [
           "24-04-2017 06:10",
           8.86663,
           9.89010989
          ],
          [
           "25-04-2017 06:00",
           6.80645,
           10.87613293
          ],
          [
           "30-04-2017 11:29",
           5.21374,
           12.24489796
          ],
          [
           "08-07-2017 10:04",
           2.71353,
           4.215456674
          ],
          [
           "19-08-2017 13:01",
           4.1574,
           12.37113402
          ],
          [
           "20-08-2017 11:05",
           8.23837,
           11.88118812
          ],
          [
           "21-08-2017 17:25",
           3.44782,
           12.4137931
          ],
          [
           "22-08-2017 10:49",
           10.76584,
           11.21495327
          ],
          [
           "24-08-2017 16:46",
           5.4634,
           10.94224924
          ]
         ],
         "hovertemplate": "Terrain Type=Flat<br>Begin Latitude (Decimal Degrees Raw)=%{lat}<br>Begin Longitude (Decimal Degrees Raw)=%{lon}<br>Begin Timestamp=%{customdata[0]}<br>Distance (Raw)=%{customdata[1]}<br>Average Speed=%{customdata[2]}<extra></extra>",
         "lat": [
          48.02492123,
          48.02492123,
          48.02492123,
          48.02492123,
          48.02492123,
          48.02492123,
          48.02492123,
          48.00991503,
          48.01659255,
          48.01652449,
          48.0163369,
          48.01659582,
          48.01525472
         ],
         "legendgroup": "Flat",
         "lon": [
          7.826711769,
          7.826711769,
          7.826711769,
          7.826711769,
          7.826711769,
          7.826711769,
          7.826711769,
          7.90149699,
          7.535720374,
          7.535583749,
          7.535798578,
          7.535675867,
          7.534499969
         ],
         "marker": {
          "color": "#636efa"
         },
         "mode": "markers",
         "name": "Flat",
         "showlegend": true,
         "subplot": "mapbox",
         "type": "scattermapbox"
        },
        {
         "customdata": [
          [
           "24-09-2015 12:55",
           3.37103,
           9.523809524
          ],
          [
           "28-09-2015 17:19",
           3.39513,
           9.917355372
          ],
          [
           "07-06-2016 09:10",
           4.94082,
           9.350649351
          ],
          [
           "09-06-2016 14:56",
           3.5558,
           10.08403361
          ],
          [
           "11-06-2016 10:05",
           4.98479,
           9.972299169
          ],
          [
           "12-06-2016 09:43",
           5.00634,
           10.25641026
          ],
          [
           "14-06-2016 14:33",
           5.02961,
           10.90909091
          ],
          [
           "15-06-2016 14:38",
           5.57298,
           11.00917431
          ],
          [
           "18-06-2016 12:07",
           3.02501,
           10.71428571
          ],
          [
           "20-06-2016 17:16",
           3.95872,
           10.94224924
          ],
          [
           "21-06-2016 16:25",
           4.01373,
           10.90909091
          ],
          [
           "22-06-2016 16:22",
           2.70119,
           10.25641026
          ],
          [
           "23-06-2016 15:26",
           3132,
           11.11111111
          ],
          [
           "24-06-2016 16:20",
           3.10648,
           10.87613293
          ],
          [
           "25-06-2016 09:58",
           4.00936,
           10.43478261
          ],
          [
           "27-06-2016 10:34",
           6.13313,
           10.16949153
          ],
          [
           "29-06-2016 16:20",
           3.18769,
           9.944751381
          ],
          [
           "01-07-2016 16:15",
           3.2336,
           10.49562682
          ],
          [
           "05-07-2016 18:50",
           3.41579,
           11.14551084
          ],
          [
           "08-07-2016 11:31",
           4.96816,
           10.65088757
          ],
          [
           "10-07-2016 08:35",
           5.01117,
           11.07692308
          ],
          [
           "11-07-2016 18:18",
           3.42168,
           10.74626866
          ],
          [
           "14-07-2016 15:09",
           4.96412,
           11.11111111
          ],
          [
           "19-07-2016 17:40",
           5.00583,
           10.94224924
          ],
          [
           "21-07-2016 08:05",
           4.93391,
           10.61946903
          ],
          [
           "26-07-2016 18:31",
           3.45397,
           11.76470588
          ],
          [
           "27-07-2016 17:34",
           4.96353,
           11.18012422
          ],
          [
           "31-07-2016 10:36",
           10.05124,
           10.14084507
          ],
          [
           "04-08-2016 14:48",
           5.05955,
           11.00917431
          ],
          [
           "09-08-2016 10:51",
           10.02786,
           10.49562682
          ],
          [
           "12-08-2016 11:55",
           4.90355,
           10.43478261
          ],
          [
           "17-08-2016 14:36",
           4.94665,
           10.87613293
          ],
          [
           "21-08-2016 09:15",
           5.0234,
           11.68831169
          ],
          [
           "22-08-2016 14:01",
           5.01899,
           10.71428571
          ],
          [
           "23-08-2016 17:33",
           3.42287,
           11.84210526
          ],
          [
           "27-08-2016 11:36",
           5.04014,
           11.21495327
          ],
          [
           "28-08-2016 07:31",
           5.03913,
           10.55718475
          ],
          [
           "30-08-2016 17:16",
           5.09508,
           11.72638436
          ],
          [
           "08-09-2016 12:49",
           5.06206,
           11.21495327
          ],
          [
           "12-09-2016 17:46",
           7.21607,
           10.43478261
          ],
          [
           "16-09-2016 15:02",
           5.02065,
           11.68831169
          ],
          [
           "24-09-2016 12:36",
           5.06031,
           11.88118812
          ],
          [
           "30-09-2016 16:13",
           5.01038,
           11.96013289
          ],
          [
           "10-10-2016 17:24",
           5.03507,
           12.5
          ],
          [
           "13-10-2016 15:16",
           6.67226,
           11.72638436
          ],
          [
           "15-10-2016 12:00",
           5.05449,
           11.32075472
          ],
          [
           "20-10-2016 06:14",
           5.06541,
           11.25
          ],
          [
           "08-11-2016 06:08",
           3.49451,
           11.14551084
          ],
          [
           "10-11-2016 15:24",
           4.8938,
           11.21495327
          ],
          [
           "12-11-2016 09:24",
           5.01789,
           11.53846154
          ],
          [
           "16-11-2016 16:40",
           5.0649,
           10.97560976
          ],
          [
           "19-11-2016 11:33",
           5.06219,
           10.81081081
          ],
          [
           "02-12-2016 14:51",
           5.04405,
           11.50159744
          ],
          [
           "10-12-2016 14:00",
           5.04681,
           11.39240506
          ],
          [
           "26-12-2016 10:51",
           5.06166,
           11.14551084
          ],
          [
           "31-12-2016 11:04",
           5.06431,
           11.68831169
          ],
          [
           "03-02-2017 14:30",
           5.09182,
           10.87613293
          ],
          [
           "05-02-2017 13:56",
           5.33116,
           11.9205298
          ],
          [
           "16-02-2017 16:22",
           4.96855,
           10.97560976
          ],
          [
           "18-02-2017 16:14",
           5.01479,
           11.11111111
          ],
          [
           "19-02-2017 13:34",
           5.03331,
           11.07692308
          ],
          [
           "25-02-2017 11:36",
           6.63619,
           10.52631579
          ],
          [
           "26-02-2017 13:39",
           5.14983,
           11.11111111
          ],
          [
           "11-03-2017 09:28",
           5.06357,
           11.28526646
          ],
          [
           "19-03-2017 16:07",
           5.04683,
           11.65048544
          ],
          [
           "04-05-2017 13:56",
           3.76345,
           11.07692308
          ],
          [
           "07-05-2017 10:31",
           6.71703,
           11.53846154
          ]
         ],
         "hovertemplate": "Terrain Type=Moderate<br>Begin Latitude (Decimal Degrees Raw)=%{lat}<br>Begin Longitude (Decimal Degrees Raw)=%{lon}<br>Begin Timestamp=%{customdata[0]}<br>Distance (Raw)=%{customdata[1]}<br>Average Speed=%{customdata[2]}<extra></extra>",
         "lat": [
          48.02492123,
          48.02492123,
          48.02492123,
          48.02492123,
          48.02492123,
          48.02492123,
          48.02492123,
          48.02492123,
          48.02492123,
          48.02492123,
          48.02492123,
          48.02492123,
          48.02492123,
          48.02492123,
          48.02492123,
          48.02492123,
          48.02492123,
          48.02492123,
          48.02492123,
          48.02492123,
          48.02492123,
          48.02492123,
          48.02492123,
          48.02492123,
          48.02492123,
          48.02492123,
          48.02492123,
          48.02492123,
          48.02492123,
          48.02492123,
          48.02492123,
          48.02492123,
          48.02492123,
          48.02492123,
          48.02492123,
          48.02492123,
          48.02492123,
          48.02492123,
          48.02492123,
          48.02492123,
          48.02492123,
          48.02492123,
          48.02492123,
          48.02492123,
          48.02492123,
          48.02492123,
          48.02492123,
          48.02492123,
          48.02492123,
          48.02492123,
          48.02492123,
          48.02492123,
          48.02492123,
          48.02492123,
          48.02492123,
          48.02492123,
          48.02492123,
          48.02492123,
          48.02492123,
          48.02492123,
          48.02492123,
          48.02492123,
          48.02492123,
          48.01913227,
          48.0193559,
          48.02492123,
          48.02492123
         ],
         "legendgroup": "Moderate",
         "lon": [
          7.826711769,
          7.826711769,
          7.826711769,
          7.826711769,
          7.826711769,
          7.826711769,
          7.826711769,
          7.826711769,
          7.826711769,
          7.826711769,
          7.826711769,
          7.826711769,
          7.826711769,
          7.826711769,
          7.826711769,
          7.826711769,
          7.826711769,
          7.826711769,
          7.826711769,
          7.826711769,
          7.826711769,
          7.826711769,
          7.826711769,
          7.826711769,
          7.826711769,
          7.826711769,
          7.826711769,
          7.826711769,
          7.826711769,
          7.826711769,
          7.826711769,
          7.826711769,
          7.826711769,
          7.826711769,
          7.826711769,
          7.826711769,
          7.826711769,
          7.826711769,
          7.826711769,
          7.826711769,
          7.826711769,
          7.826711769,
          7.826711769,
          7.826711769,
          7.826711769,
          7.826711769,
          7.826711769,
          7.826711769,
          7.826711769,
          7.826711769,
          7.826711769,
          7.826711769,
          7.826711769,
          7.826711769,
          7.826711769,
          7.826711769,
          7.826711769,
          7.826711769,
          7.826711769,
          7.826711769,
          7.826711769,
          7.826711769,
          7.826711769,
          7.856526151,
          7.8561607,
          7.826711769,
          7.826711769
         ],
         "marker": {
          "color": "#EF553B"
         },
         "mode": "markers",
         "name": "Moderate",
         "showlegend": true,
         "subplot": "mapbox",
         "type": "scattermapbox"
        },
        {
         "customdata": [
          [
           "28-06-2016 17:24",
           6.69202,
           9.809264305
          ],
          [
           "15-07-2016 13:18",
           6.38675,
           9.917355372
          ],
          [
           "17-07-2016 10:06",
           7.28608,
           9.302325581
          ],
          [
           "23-07-2016 08:57",
           6.0188,
           8.695652174
          ],
          [
           "30-07-2016 08:28",
           7.52721,
           9.090909091
          ],
          [
           "03-08-2016 13:34",
           7.57971,
           9.6
          ],
          [
           "11-08-2016 12:33",
           7.60042,
           9.703504043
          ],
          [
           "13-08-2016 08:10",
           6.8751,
           9.473684211
          ],
          [
           "15-08-2016 15:46",
           11.80578,
           9.207161125
          ],
          [
           "19-08-2016 09:12",
           7.74769,
           9.677419355
          ],
          [
           "25-08-2016 12:32",
           7.61855,
           9.375
          ],
          [
           "02-09-2016 10:15",
           12.36673,
           9.782608696
          ],
          [
           "03-09-2016 18:24",
           6.0777,
           9.549071618
          ],
          [
           "06-09-2016 14:25",
           7.58918,
           9.6
          ],
          [
           "14-09-2016 14:35",
           6.10794,
           9.399477807
          ],
          [
           "17-09-2016 11:22",
           11.44591,
           9.809264305
          ],
          [
           "19-09-2016 13:40",
           9.04333,
           9.72972973
          ],
          [
           "23-09-2016 14:25",
           11.97663,
           9.399477807
          ],
          [
           "27-09-2016 13:58",
           11.43343,
           10.08403361
          ],
          [
           "01-10-2016 16:21",
           6.85785,
           10.58823529
          ],
          [
           "06-10-2016 15:30",
           13.08406,
           9.6
          ],
          [
           "07-10-2016 16:49",
           9.1548,
           10.40462428
          ],
          [
           "22-10-2016 10:15",
           6.7628,
           10.25641026
          ],
          [
           "27-11-2016 09:46",
           7.73334,
           9.972299169
          ],
          [
           "01-12-2016 14:56",
           7.85964,
           10.16949153
          ],
          [
           "03-12-2016 11:00",
           6.88248,
           9.944751381
          ],
          [
           "25-12-2016 15:52",
           5.49466,
           9.651474531
          ],
          [
           "12-03-2017 14:49",
           9.23407,
           10.05586592
          ],
          [
           "15-03-2017 14:31",
           9.28995,
           9.863013699
          ],
          [
           "17-03-2017 13:29",
           9.06206,
           9.399477807
          ],
          [
           "23-03-2017 16:29",
           6.99701,
           9.89010989
          ],
          [
           "25-03-2017 09:44",
           6.84421,
           9.703504043
          ],
          [
           "28-03-2017 13:58",
           7.67761,
           9.498680739
          ],
          [
           "30-03-2017 15:28",
           4.84635,
           7.086614173
          ],
          [
           "08-04-2017 13:14",
           9.28729,
           10.22727273
          ],
          [
           "11-04-2017 11:36",
           10.61645,
           10
          ],
          [
           "14-04-2017 11:22",
           10.52496,
           10.02785515
          ],
          [
           "21-04-2017 12:04",
           10.43221,
           10.52631579
          ],
          [
           "05-05-2017 16:04",
           7.78938,
           9.89010989
          ],
          [
           "10-05-2017 16:35",
           6.84644,
           10.08403361
          ],
          [
           "14-05-2017 15:30",
           10.10208,
           10.05586592
          ],
          [
           "16-05-2017 14:35",
           5.52827,
           9.254498715
          ],
          [
           "20-05-2017 11:47",
           10.29699,
           10.40462428
          ],
          [
           "27-05-2017 16:00",
           8.79686,
           9.473684211
          ],
          [
           "04-06-2017 12:42",
           10.81228,
           9.809264305
          ],
          [
           "05-06-2017 10:20",
           5.56657,
           9.183673469
          ],
          [
           "13-06-2017 17:42",
           6.50838,
           10.14084507
          ],
          [
           "15-06-2017 08:56",
           9.61486,
           9.448818898
          ],
          [
           "17-06-2017 15:57",
           8.78426,
           9.72972973
          ],
          [
           "18-06-2017 13:55",
           8.78442,
           6.805293006
          ],
          [
           "22-06-2017 16:24",
           6.6148,
           9.022556391
          ],
          [
           "25-06-2017 11:00",
           16.45148,
           8.530805687
          ],
          [
           "02-07-2017 10:45",
           6.3264,
           9.473684211
          ],
          [
           "08-07-2017 09:13",
           5.00269,
           6.040268456
          ],
          [
           "27-07-2017 13:33",
           7.34084,
           9.183673469
          ],
          [
           "30-07-2017 09:12",
           6.08745,
           9.703504043
          ],
          [
           "03-08-2017 10:48",
           8.93656,
           9.498680739
          ],
          [
           "05-08-2017 11:21",
           6.44058,
           10.08403361
          ],
          [
           "06-08-2017 10:45",
           13.99796,
           8.80195599
          ],
          [
           "09-08-2017 16:22",
           6.14427,
           10
          ],
          [
           "14-08-2017 13:30",
           7.59412,
           9.230769231
          ],
          [
           "16-08-2017 12:47",
           6.12939,
           9.917355372
          ],
          [
           "31-08-2017 16:22",
           6.29003,
           10.31518625
          ],
          [
           "03-09-2017 08:54",
           5.16138,
           7.912087912
          ],
          [
           "05-09-2017 15:32",
           6.49227,
           8.888888889
          ],
          [
           "10-09-2017 13:45",
           10.85331,
           9.574468085
          ],
          [
           "16-09-2017 12:33",
           13.3789,
           9.137055838
          ],
          [
           "22-09-2017 15:36",
           6.34478,
           10.19830028
          ],
          [
           "27-09-2017 12:29",
           9.27718,
           8.571428571
          ],
          [
           "30-09-2017 16:03",
           7.90049,
           10.02785515
          ],
          [
           "02-10-2017 14:51",
           7.81321,
           9.972299169
          ],
          [
           "13-10-2017 11:53",
           7.75709,
           9.703504043
          ],
          [
           "25-10-2017 16:31",
           6.60755,
           10.22727273
          ],
          [
           "03-11-2017 09:47",
           7.62835,
           9.523809524
          ],
          [
           "04-11-2017 12:07",
           8.66881,
           8.845208845
          ]
         ],
         "hovertemplate": "Terrain Type=Hilly<br>Begin Latitude (Decimal Degrees Raw)=%{lat}<br>Begin Longitude (Decimal Degrees Raw)=%{lon}<br>Begin Timestamp=%{customdata[0]}<br>Distance (Raw)=%{customdata[1]}<br>Average Speed=%{customdata[2]}<extra></extra>",
         "lat": [
          48.02492123,
          48.02492123,
          48.02492123,
          48.02492123,
          48.02492123,
          48.02492123,
          48.02492123,
          48.02492123,
          48.02492123,
          48.02492123,
          48.02492123,
          48.02492123,
          48.02492123,
          48.02492123,
          48.02492123,
          48.02492123,
          48.02492123,
          48.02492123,
          48.02492123,
          48.02492123,
          48.02492123,
          48.02492123,
          48.02492123,
          48.02492123,
          48.02492123,
          48.02492123,
          48.02492123,
          48.01921877,
          48.01913705,
          48.01762738,
          48.01673345,
          48.02492123,
          48.02492123,
          48.02492123,
          48.02492123,
          48.02492123,
          48.02492123,
          48.02492123,
          48.02492123,
          48.02492123,
          48.02492123,
          48.02492123,
          48.02492123,
          48.02492123,
          48.02492123,
          48.02492123,
          48.02492123,
          48.02492123,
          48.2618436,
          48.01938197,
          48.0240957,
          48.02211019,
          48.02105977,
          48.02101233,
          48.01926764,
          48.02048318,
          48.0250794,
          48.01911509,
          48.0192616,
          48.01913789,
          48.02137434,
          48.01925691,
          48.01926822,
          48.01868803,
          48.0203924,
          48.01607748,
          48.00809657,
          48.0193072,
          48.02231287,
          48.01913797,
          48.01911618,
          48.01919396,
          48.01839575,
          48.01785914,
          48.01917837
         ],
         "legendgroup": "Hilly",
         "lon": [
          7.826711769,
          7.826711769,
          7.826711769,
          7.826711769,
          7.826711769,
          7.826711769,
          7.826711769,
          7.826711769,
          7.826711769,
          7.826711769,
          7.826711769,
          7.826711769,
          7.826711769,
          7.826711769,
          7.826711769,
          7.826711769,
          7.826711769,
          7.826711769,
          7.826711769,
          7.826711769,
          7.826711769,
          7.826711769,
          7.826711769,
          7.826711769,
          7.826711769,
          7.826711769,
          7.826711769,
          7.856650036,
          7.856412744,
          7.882339647,
          7.884099763,
          7.826711769,
          7.826711769,
          7.826711769,
          7.826711769,
          7.826711769,
          7.826711769,
          7.826711769,
          7.826711769,
          7.826711769,
          7.826711769,
          7.826711769,
          7.826711769,
          7.826711769,
          7.826711769,
          7.826711769,
          7.826711769,
          7.826711769,
          7.984674638,
          7.856737208,
          7.86697939,
          7.862421395,
          7.873912482,
          7.872846471,
          7.856342001,
          7.861457393,
          7.86842024,
          7.856477536,
          7.856520368,
          7.856424982,
          7.861949243,
          7.856211495,
          7.856926974,
          7.858128436,
          7.876742212,
          7.87986313,
          7.89999688,
          7.85659899,
          7.86245727,
          7.856386928,
          7.857145155,
          7.856333787,
          7.880602246,
          7.881881241,
          7.856356334
         ],
         "marker": {
          "color": "#00cc96"
         },
         "mode": "markers",
         "name": "Hilly",
         "showlegend": true,
         "subplot": "mapbox",
         "type": "scattermapbox"
        }
       ],
       "layout": {
        "height": 600,
        "legend": {
         "title": {
          "text": "Terrain Type"
         },
         "tracegroupgap": 0
        },
        "mapbox": {
         "center": {
          "lat": 48.02492123070968,
          "lon": 7.826711769012904
         },
         "domain": {
          "x": [
           0,
           1
          ],
          "y": [
           0,
           1
          ]
         },
         "style": "open-street-map",
         "zoom": 11
        },
        "margin": {
         "b": 0,
         "l": 0,
         "r": 0,
         "t": 40
        },
        "template": {
         "data": {
          "bar": [
           {
            "error_x": {
             "color": "#2a3f5f"
            },
            "error_y": {
             "color": "#2a3f5f"
            },
            "marker": {
             "line": {
              "color": "#E5ECF6",
              "width": 0.5
             },
             "pattern": {
              "fillmode": "overlay",
              "size": 10,
              "solidity": 0.2
             }
            },
            "type": "bar"
           }
          ],
          "barpolar": [
           {
            "marker": {
             "line": {
              "color": "#E5ECF6",
              "width": 0.5
             },
             "pattern": {
              "fillmode": "overlay",
              "size": 10,
              "solidity": 0.2
             }
            },
            "type": "barpolar"
           }
          ],
          "carpet": [
           {
            "aaxis": {
             "endlinecolor": "#2a3f5f",
             "gridcolor": "white",
             "linecolor": "white",
             "minorgridcolor": "white",
             "startlinecolor": "#2a3f5f"
            },
            "baxis": {
             "endlinecolor": "#2a3f5f",
             "gridcolor": "white",
             "linecolor": "white",
             "minorgridcolor": "white",
             "startlinecolor": "#2a3f5f"
            },
            "type": "carpet"
           }
          ],
          "choropleth": [
           {
            "colorbar": {
             "outlinewidth": 0,
             "ticks": ""
            },
            "type": "choropleth"
           }
          ],
          "contour": [
           {
            "colorbar": {
             "outlinewidth": 0,
             "ticks": ""
            },
            "colorscale": [
             [
              0,
              "#0d0887"
             ],
             [
              0.1111111111111111,
              "#46039f"
             ],
             [
              0.2222222222222222,
              "#7201a8"
             ],
             [
              0.3333333333333333,
              "#9c179e"
             ],
             [
              0.4444444444444444,
              "#bd3786"
             ],
             [
              0.5555555555555556,
              "#d8576b"
             ],
             [
              0.6666666666666666,
              "#ed7953"
             ],
             [
              0.7777777777777778,
              "#fb9f3a"
             ],
             [
              0.8888888888888888,
              "#fdca26"
             ],
             [
              1,
              "#f0f921"
             ]
            ],
            "type": "contour"
           }
          ],
          "contourcarpet": [
           {
            "colorbar": {
             "outlinewidth": 0,
             "ticks": ""
            },
            "type": "contourcarpet"
           }
          ],
          "heatmap": [
           {
            "colorbar": {
             "outlinewidth": 0,
             "ticks": ""
            },
            "colorscale": [
             [
              0,
              "#0d0887"
             ],
             [
              0.1111111111111111,
              "#46039f"
             ],
             [
              0.2222222222222222,
              "#7201a8"
             ],
             [
              0.3333333333333333,
              "#9c179e"
             ],
             [
              0.4444444444444444,
              "#bd3786"
             ],
             [
              0.5555555555555556,
              "#d8576b"
             ],
             [
              0.6666666666666666,
              "#ed7953"
             ],
             [
              0.7777777777777778,
              "#fb9f3a"
             ],
             [
              0.8888888888888888,
              "#fdca26"
             ],
             [
              1,
              "#f0f921"
             ]
            ],
            "type": "heatmap"
           }
          ],
          "heatmapgl": [
           {
            "colorbar": {
             "outlinewidth": 0,
             "ticks": ""
            },
            "colorscale": [
             [
              0,
              "#0d0887"
             ],
             [
              0.1111111111111111,
              "#46039f"
             ],
             [
              0.2222222222222222,
              "#7201a8"
             ],
             [
              0.3333333333333333,
              "#9c179e"
             ],
             [
              0.4444444444444444,
              "#bd3786"
             ],
             [
              0.5555555555555556,
              "#d8576b"
             ],
             [
              0.6666666666666666,
              "#ed7953"
             ],
             [
              0.7777777777777778,
              "#fb9f3a"
             ],
             [
              0.8888888888888888,
              "#fdca26"
             ],
             [
              1,
              "#f0f921"
             ]
            ],
            "type": "heatmapgl"
           }
          ],
          "histogram": [
           {
            "marker": {
             "pattern": {
              "fillmode": "overlay",
              "size": 10,
              "solidity": 0.2
             }
            },
            "type": "histogram"
           }
          ],
          "histogram2d": [
           {
            "colorbar": {
             "outlinewidth": 0,
             "ticks": ""
            },
            "colorscale": [
             [
              0,
              "#0d0887"
             ],
             [
              0.1111111111111111,
              "#46039f"
             ],
             [
              0.2222222222222222,
              "#7201a8"
             ],
             [
              0.3333333333333333,
              "#9c179e"
             ],
             [
              0.4444444444444444,
              "#bd3786"
             ],
             [
              0.5555555555555556,
              "#d8576b"
             ],
             [
              0.6666666666666666,
              "#ed7953"
             ],
             [
              0.7777777777777778,
              "#fb9f3a"
             ],
             [
              0.8888888888888888,
              "#fdca26"
             ],
             [
              1,
              "#f0f921"
             ]
            ],
            "type": "histogram2d"
           }
          ],
          "histogram2dcontour": [
           {
            "colorbar": {
             "outlinewidth": 0,
             "ticks": ""
            },
            "colorscale": [
             [
              0,
              "#0d0887"
             ],
             [
              0.1111111111111111,
              "#46039f"
             ],
             [
              0.2222222222222222,
              "#7201a8"
             ],
             [
              0.3333333333333333,
              "#9c179e"
             ],
             [
              0.4444444444444444,
              "#bd3786"
             ],
             [
              0.5555555555555556,
              "#d8576b"
             ],
             [
              0.6666666666666666,
              "#ed7953"
             ],
             [
              0.7777777777777778,
              "#fb9f3a"
             ],
             [
              0.8888888888888888,
              "#fdca26"
             ],
             [
              1,
              "#f0f921"
             ]
            ],
            "type": "histogram2dcontour"
           }
          ],
          "mesh3d": [
           {
            "colorbar": {
             "outlinewidth": 0,
             "ticks": ""
            },
            "type": "mesh3d"
           }
          ],
          "parcoords": [
           {
            "line": {
             "colorbar": {
              "outlinewidth": 0,
              "ticks": ""
             }
            },
            "type": "parcoords"
           }
          ],
          "pie": [
           {
            "automargin": true,
            "type": "pie"
           }
          ],
          "scatter": [
           {
            "fillpattern": {
             "fillmode": "overlay",
             "size": 10,
             "solidity": 0.2
            },
            "type": "scatter"
           }
          ],
          "scatter3d": [
           {
            "line": {
             "colorbar": {
              "outlinewidth": 0,
              "ticks": ""
             }
            },
            "marker": {
             "colorbar": {
              "outlinewidth": 0,
              "ticks": ""
             }
            },
            "type": "scatter3d"
           }
          ],
          "scattercarpet": [
           {
            "marker": {
             "colorbar": {
              "outlinewidth": 0,
              "ticks": ""
             }
            },
            "type": "scattercarpet"
           }
          ],
          "scattergeo": [
           {
            "marker": {
             "colorbar": {
              "outlinewidth": 0,
              "ticks": ""
             }
            },
            "type": "scattergeo"
           }
          ],
          "scattergl": [
           {
            "marker": {
             "colorbar": {
              "outlinewidth": 0,
              "ticks": ""
             }
            },
            "type": "scattergl"
           }
          ],
          "scattermapbox": [
           {
            "marker": {
             "colorbar": {
              "outlinewidth": 0,
              "ticks": ""
             }
            },
            "type": "scattermapbox"
           }
          ],
          "scatterpolar": [
           {
            "marker": {
             "colorbar": {
              "outlinewidth": 0,
              "ticks": ""
             }
            },
            "type": "scatterpolar"
           }
          ],
          "scatterpolargl": [
           {
            "marker": {
             "colorbar": {
              "outlinewidth": 0,
              "ticks": ""
             }
            },
            "type": "scatterpolargl"
           }
          ],
          "scatterternary": [
           {
            "marker": {
             "colorbar": {
              "outlinewidth": 0,
              "ticks": ""
             }
            },
            "type": "scatterternary"
           }
          ],
          "surface": [
           {
            "colorbar": {
             "outlinewidth": 0,
             "ticks": ""
            },
            "colorscale": [
             [
              0,
              "#0d0887"
             ],
             [
              0.1111111111111111,
              "#46039f"
             ],
             [
              0.2222222222222222,
              "#7201a8"
             ],
             [
              0.3333333333333333,
              "#9c179e"
             ],
             [
              0.4444444444444444,
              "#bd3786"
             ],
             [
              0.5555555555555556,
              "#d8576b"
             ],
             [
              0.6666666666666666,
              "#ed7953"
             ],
             [
              0.7777777777777778,
              "#fb9f3a"
             ],
             [
              0.8888888888888888,
              "#fdca26"
             ],
             [
              1,
              "#f0f921"
             ]
            ],
            "type": "surface"
           }
          ],
          "table": [
           {
            "cells": {
             "fill": {
              "color": "#EBF0F8"
             },
             "line": {
              "color": "white"
             }
            },
            "header": {
             "fill": {
              "color": "#C8D4E3"
             },
             "line": {
              "color": "white"
             }
            },
            "type": "table"
           }
          ]
         },
         "layout": {
          "annotationdefaults": {
           "arrowcolor": "#2a3f5f",
           "arrowhead": 0,
           "arrowwidth": 1
          },
          "autotypenumbers": "strict",
          "coloraxis": {
           "colorbar": {
            "outlinewidth": 0,
            "ticks": ""
           }
          },
          "colorscale": {
           "diverging": [
            [
             0,
             "#8e0152"
            ],
            [
             0.1,
             "#c51b7d"
            ],
            [
             0.2,
             "#de77ae"
            ],
            [
             0.3,
             "#f1b6da"
            ],
            [
             0.4,
             "#fde0ef"
            ],
            [
             0.5,
             "#f7f7f7"
            ],
            [
             0.6,
             "#e6f5d0"
            ],
            [
             0.7,
             "#b8e186"
            ],
            [
             0.8,
             "#7fbc41"
            ],
            [
             0.9,
             "#4d9221"
            ],
            [
             1,
             "#276419"
            ]
           ],
           "sequential": [
            [
             0,
             "#0d0887"
            ],
            [
             0.1111111111111111,
             "#46039f"
            ],
            [
             0.2222222222222222,
             "#7201a8"
            ],
            [
             0.3333333333333333,
             "#9c179e"
            ],
            [
             0.4444444444444444,
             "#bd3786"
            ],
            [
             0.5555555555555556,
             "#d8576b"
            ],
            [
             0.6666666666666666,
             "#ed7953"
            ],
            [
             0.7777777777777778,
             "#fb9f3a"
            ],
            [
             0.8888888888888888,
             "#fdca26"
            ],
            [
             1,
             "#f0f921"
            ]
           ],
           "sequentialminus": [
            [
             0,
             "#0d0887"
            ],
            [
             0.1111111111111111,
             "#46039f"
            ],
            [
             0.2222222222222222,
             "#7201a8"
            ],
            [
             0.3333333333333333,
             "#9c179e"
            ],
            [
             0.4444444444444444,
             "#bd3786"
            ],
            [
             0.5555555555555556,
             "#d8576b"
            ],
            [
             0.6666666666666666,
             "#ed7953"
            ],
            [
             0.7777777777777778,
             "#fb9f3a"
            ],
            [
             0.8888888888888888,
             "#fdca26"
            ],
            [
             1,
             "#f0f921"
            ]
           ]
          },
          "colorway": [
           "#636efa",
           "#EF553B",
           "#00cc96",
           "#ab63fa",
           "#FFA15A",
           "#19d3f3",
           "#FF6692",
           "#B6E880",
           "#FF97FF",
           "#FECB52"
          ],
          "font": {
           "color": "#2a3f5f"
          },
          "geo": {
           "bgcolor": "white",
           "lakecolor": "white",
           "landcolor": "#E5ECF6",
           "showlakes": true,
           "showland": true,
           "subunitcolor": "white"
          },
          "hoverlabel": {
           "align": "left"
          },
          "hovermode": "closest",
          "mapbox": {
           "style": "light"
          },
          "paper_bgcolor": "white",
          "plot_bgcolor": "#E5ECF6",
          "polar": {
           "angularaxis": {
            "gridcolor": "white",
            "linecolor": "white",
            "ticks": ""
           },
           "bgcolor": "#E5ECF6",
           "radialaxis": {
            "gridcolor": "white",
            "linecolor": "white",
            "ticks": ""
           }
          },
          "scene": {
           "xaxis": {
            "backgroundcolor": "#E5ECF6",
            "gridcolor": "white",
            "gridwidth": 2,
            "linecolor": "white",
            "showbackground": true,
            "ticks": "",
            "zerolinecolor": "white"
           },
           "yaxis": {
            "backgroundcolor": "#E5ECF6",
            "gridcolor": "white",
            "gridwidth": 2,
            "linecolor": "white",
            "showbackground": true,
            "ticks": "",
            "zerolinecolor": "white"
           },
           "zaxis": {
            "backgroundcolor": "#E5ECF6",
            "gridcolor": "white",
            "gridwidth": 2,
            "linecolor": "white",
            "showbackground": true,
            "ticks": "",
            "zerolinecolor": "white"
           }
          },
          "shapedefaults": {
           "line": {
            "color": "#2a3f5f"
           }
          },
          "ternary": {
           "aaxis": {
            "gridcolor": "white",
            "linecolor": "white",
            "ticks": ""
           },
           "baxis": {
            "gridcolor": "white",
            "linecolor": "white",
            "ticks": ""
           },
           "bgcolor": "#E5ECF6",
           "caxis": {
            "gridcolor": "white",
            "linecolor": "white",
            "ticks": ""
           }
          },
          "title": {
           "x": 0.05
          },
          "xaxis": {
           "automargin": true,
           "gridcolor": "white",
           "linecolor": "white",
           "ticks": "",
           "title": {
            "standoff": 15
           },
           "zerolinecolor": "white",
           "zerolinewidth": 2
          },
          "yaxis": {
           "automargin": true,
           "gridcolor": "white",
           "linecolor": "white",
           "ticks": "",
           "title": {
            "standoff": 15
           },
           "zerolinecolor": "white",
           "zerolinewidth": 2
          }
         }
        },
        "title": {
         "text": "Terrain Route Visualization"
        }
       }
      }
     },
     "metadata": {},
     "output_type": "display_data"
    }
   ],
   "source": [
    "import pandas as pd\n",
    "import plotly.express as px\n",
    "\n",
    "# Define correct GPS column names\n",
    "latitude_column = 'Begin Latitude (Decimal Degrees Raw)'\n",
    "longitude_column = 'Begin Longitude (Decimal Degrees Raw)'\n",
    "\n",
    "# Drop rows with missing GPS coordinates\n",
    "df = df.dropna(subset=[latitude_column, longitude_column])\n",
    "\n",
    "# Ensure coordinates are numeric\n",
    "df[latitude_column] = df[latitude_column].astype(float)\n",
    "df[longitude_column] = df[longitude_column].astype(float)\n",
    "\n",
    "# Define and apply terrain classification\n",
    "def classify_terrain(elevation_gain):\n",
    "    if elevation_gain < 50:\n",
    "        return 'Flat'\n",
    "    elif 50 <= elevation_gain < 150:\n",
    "        return 'Moderate'\n",
    "    else:\n",
    "        return 'Hilly'\n",
    "\n",
    "# Apply only if column is missing\n",
    "df['Terrain Type'] = df['Elevation Gain (Raw)'].apply(classify_terrain)\n",
    "\n",
    "# Create interactive map\n",
    "fig = px.scatter_mapbox(\n",
    "    df,\n",
    "    lat=latitude_column,\n",
    "    lon=longitude_column,\n",
    "    color='Terrain Type',\n",
    "    hover_data=['Begin Timestamp', 'Distance (Raw)', 'Average Speed'],\n",
    "    zoom=11,\n",
    "    height=600,\n",
    "    title='Terrain Route Visualization'\n",
    ")\n",
    "\n",
    "# Set map style and display\n",
    "fig.update_layout(mapbox_style=\"open-street-map\")\n",
    "fig.update_layout(margin={\"r\": 0, \"t\": 40, \"l\": 0, \"b\": 0})\n",
    "fig.show()"
   ]
  },
  {
   "cell_type": "code",
   "execution_count": 20,
   "id": "3b85bf0d-6d39-4db6-804d-3ae6864f7774",
   "metadata": {},
   "outputs": [],
   "source": [
    "# Basic libraries\n",
    "import pandas as pd\n",
    "import numpy as np\n",
    "import matplotlib.pyplot as plt\n",
    "import seaborn as sns\n",
    "\n",
    "# Machine learning tools\n",
    "from sklearn.model_selection import train_test_split, StratifiedKFold, cross_val_score\n",
    "from sklearn.preprocessing import LabelEncoder\n",
    "from sklearn.tree import DecisionTreeClassifier\n",
    "from sklearn.ensemble import RandomForestClassifier\n",
    "from sklearn.linear_model import LogisticRegression\n",
    "from sklearn.metrics import classification_report, confusion_matrix"
   ]
  },
  {
   "cell_type": "code",
   "execution_count": 21,
   "id": "44c236e8-1dda-436a-9349-a5359cf7309d",
   "metadata": {},
   "outputs": [],
   "source": [
    "# Select relevant features (input variables)\n",
    "X = df[['Average Speed', 'Average Heart Rate (bpm)', 'Average Cadence',\n",
    "        'Elevation Gain (Raw)', 'Duration (seconds)']]\n",
    "\n",
    "# Define the target variable\n",
    "y = df['Terrain Type']  # 'Flat', 'Moderate', 'Hilly'"
   ]
  },
  {
   "cell_type": "code",
   "execution_count": 22,
   "id": "33fd7941-47c7-4c23-ad23-4823b4bc764c",
   "metadata": {},
   "outputs": [
    {
     "name": "stdout",
     "output_type": "stream",
     "text": [
      "Encoded labels mapping:\n",
      "Flat ➔ 0\n",
      "Hilly ➔ 1\n",
      "Moderate ➔ 2\n"
     ]
    }
   ],
   "source": [
    "# Convert text labels to numeric values\n",
    "le = LabelEncoder()\n",
    "y_encoded = le.fit_transform(y)\n",
    "\n",
    "print(\"Encoded labels mapping:\")\n",
    "for cls, code in zip(le.classes_, range(len(le.classes_))):\n",
    "    print(f\"{cls} ➔ {code}\")"
   ]
  },
  {
   "cell_type": "code",
   "execution_count": 23,
   "id": "6efb7807-8109-4917-bc89-a6520d56764c",
   "metadata": {},
   "outputs": [],
   "source": [
    "# Stratified splitting to preserve class distribution\n",
    "X_train, X_test, y_train, y_test = train_test_split(\n",
    "    X, y_encoded, test_size=0.2, stratify=y_encoded, random_state=42\n",
    ")"
   ]
  },
  {
   "cell_type": "code",
   "execution_count": 24,
   "id": "3d38a446-f0c3-4c82-a1cb-34482779d658",
   "metadata": {},
   "outputs": [],
   "source": [
    "cv = StratifiedKFold(n_splits=5, shuffle=True, random_state=42)"
   ]
  },
  {
   "cell_type": "code",
   "execution_count": 25,
   "id": "2a4eef04-446f-419e-b0d8-789a3ae7417b",
   "metadata": {},
   "outputs": [
    {
     "name": "stdout",
     "output_type": "stream",
     "text": [
      "Decision Tree CV Accuracy: [1. 1. 1. 1. 1.]\n",
      "Mean Accuracy: 1.0\n",
      "\n",
      "Decision Tree Classification Report:\n",
      "              precision    recall  f1-score   support\n",
      "\n",
      "        Flat       1.00      1.00      1.00         3\n",
      "       Hilly       1.00      1.00      1.00        15\n",
      "    Moderate       1.00      1.00      1.00        13\n",
      "\n",
      "    accuracy                           1.00        31\n",
      "   macro avg       1.00      1.00      1.00        31\n",
      "weighted avg       1.00      1.00      1.00        31\n",
      "\n"
     ]
    },
    {
     "data": {
      "image/png": "[encoded data removed]",
      "text/plain": [
       "<Figure size 600x400 with 2 Axes>"
      ]
     },
     "metadata": {},
     "output_type": "display_data"
    }
   ],
   "source": [
    "dt_model = DecisionTreeClassifier(random_state=42)\n",
    "\n",
    "# Cross-validation\n",
    "dt_scores = cross_val_score(dt_model, X_train, y_train, cv=cv, scoring='accuracy')\n",
    "print(\"Decision Tree CV Accuracy:\", dt_scores)\n",
    "print(\"Mean Accuracy:\", dt_scores.mean())\n",
    "\n",
    "# Train and evaluate\n",
    "dt_model.fit(X_train, y_train)\n",
    "y_pred_dt = dt_model.predict(X_test)\n",
    "\n",
    "print(\"\\nDecision Tree Classification Report:\")\n",
    "print(classification_report(y_test, y_pred_dt, target_names=le.classes_))\n",
    "\n",
    "# Confusion matrix\n",
    "conf_matrix_dt = confusion_matrix(y_test, y_pred_dt)\n",
    "plt.figure(figsize=(6, 4))\n",
    "sns.heatmap(conf_matrix_dt, annot=True, fmt='d', cmap='Blues',\n",
    "            xticklabels=le.classes_, yticklabels=le.classes_)\n",
    "plt.title(\"Confusion Matrix - Decision Tree\")\n",
    "plt.xlabel(\"Predicted\")\n",
    "plt.ylabel(\"Actual\")\n",
    "plt.tight_layout()\n",
    "plt.show()"
   ]
  },
  {
   "cell_type": "code",
   "execution_count": 26,
   "id": "c8bbc89f-fc21-491e-80bc-98c429d5fe25",
   "metadata": {},
   "outputs": [
    {
     "name": "stdout",
     "output_type": "stream",
     "text": [
      "Random Forest CV Accuracy: [0.96 1.   0.96 1.   1.  ]\n",
      "Mean Accuracy: 0.984\n",
      "\n",
      "Random Forest Classification Report:\n",
      "              precision    recall  f1-score   support\n",
      "\n",
      "        Flat       1.00      1.00      1.00         3\n",
      "       Hilly       1.00      1.00      1.00        15\n",
      "    Moderate       1.00      1.00      1.00        13\n",
      "\n",
      "    accuracy                           1.00        31\n",
      "   macro avg       1.00      1.00      1.00        31\n",
      "weighted avg       1.00      1.00      1.00        31\n",
      "\n"
     ]
    },
    {
     "data": {
      "image/png": "[encoded data removed]",
      "text/plain": [
       "<Figure size 600x400 with 2 Axes>"
      ]
     },
     "metadata": {},
     "output_type": "display_data"
    }
   ],
   "source": [
    "rf_model = RandomForestClassifier(random_state=42)\n",
    "\n",
    "rf_scores = cross_val_score(rf_model, X_train, y_train, cv=cv, scoring='accuracy')\n",
    "print(\"Random Forest CV Accuracy:\", rf_scores)\n",
    "print(\"Mean Accuracy:\", rf_scores.mean())\n",
    "\n",
    "rf_model.fit(X_train, y_train)\n",
    "y_pred_rf = rf_model.predict(X_test)\n",
    "\n",
    "print(\"\\nRandom Forest Classification Report:\")\n",
    "print(classification_report(y_test, y_pred_rf, target_names=le.classes_))\n",
    "\n",
    "conf_matrix_rf = confusion_matrix(y_test, y_pred_rf)\n",
    "plt.figure(figsize=(6, 4))\n",
    "sns.heatmap(conf_matrix_rf, annot=True, fmt='d', cmap='Greens',\n",
    "            xticklabels=le.classes_, yticklabels=le.classes_)\n",
    "plt.title(\"Confusion Matrix - Random Forest\")\n",
    "plt.xlabel(\"Predicted\")\n",
    "plt.ylabel(\"Actual\")\n",
    "plt.tight_layout()\n",
    "plt.show()"
   ]
  },
  {
   "cell_type": "code",
   "execution_count": 27,
   "id": "1d670582-75f2-41f6-a175-6d9b9e20e0f1",
   "metadata": {},
   "outputs": [
    {
     "name": "stdout",
     "output_type": "stream",
     "text": [
      "Logistic Regression CV Accuracy: [1.   1.   0.92 1.   1.  ]\n",
      "Mean Accuracy: 0.984\n",
      "\n",
      "Logistic Regression Classification Report:\n",
      "              precision    recall  f1-score   support\n",
      "\n",
      "        Flat       1.00      1.00      1.00         3\n",
      "       Hilly       1.00      1.00      1.00        15\n",
      "    Moderate       1.00      1.00      1.00        13\n",
      "\n",
      "    accuracy                           1.00        31\n",
      "   macro avg       1.00      1.00      1.00        31\n",
      "weighted avg       1.00      1.00      1.00        31\n",
      "\n"
     ]
    },
    {
     "data": {
      "image/png": "[encoded data removed]",
      "text/plain": [
       "<Figure size 600x400 with 2 Axes>"
      ]
     },
     "metadata": {},
     "output_type": "display_data"
    }
   ],
   "source": [
    "lr_model = LogisticRegression(max_iter=1000)\n",
    "\n",
    "lr_scores = cross_val_score(lr_model, X_train, y_train, cv=cv, scoring='accuracy')\n",
    "print(\"Logistic Regression CV Accuracy:\", lr_scores)\n",
    "print(\"Mean Accuracy:\", lr_scores.mean())\n",
    "\n",
    "lr_model.fit(X_train, y_train)\n",
    "y_pred_lr = lr_model.predict(X_test)\n",
    "\n",
    "print(\"\\nLogistic Regression Classification Report:\")\n",
    "print(classification_report(y_test, y_pred_lr, target_names=le.classes_))\n",
    "\n",
    "conf_matrix_lr = confusion_matrix(y_test, y_pred_lr)\n",
    "plt.figure(figsize=(6, 4))\n",
    "sns.heatmap(conf_matrix_lr, annot=True, fmt='d', cmap='Oranges',\n",
    "            xticklabels=le.classes_, yticklabels=le.classes_)\n",
    "plt.title(\"Confusion Matrix - Logistic Regression\")\n",
    "plt.xlabel(\"Predicted\")\n",
    "plt.ylabel(\"Actual\")\n",
    "plt.tight_layout()\n",
    "plt.show()"
   ]
  },
  {
   "cell_type": "code",
   "execution_count": 28,
   "id": "ccf96247-cfe4-4940-8568-e7c326b982bb",
   "metadata": {},
   "outputs": [],
   "source": [
    "def plot_feature_importance(model, model_name, feature_names):\n",
    "    plt.figure(figsize=(8, 4))\n",
    "\n",
    "    if hasattr(model, 'feature_importances_'):\n",
    "        importances = model.feature_importances_\n",
    "        sns.barplot(x=importances, y=feature_names)\n",
    "        plt.title(f\"{model_name} - Feature Importance\")\n",
    "\n",
    "    elif hasattr(model, 'coef_'):\n",
    "        importances = model.coef_[0]  # For Logistic Regression\n",
    "        sns.barplot(x=importances, y=feature_names)\n",
    "        plt.title(f\"{model_name} - Coefficients (Feature Influence)\")\n",
    "\n",
    "    else:\n",
    "        print(f\"{model_name} does not support feature importance.\")\n",
    "        return\n",
    "\n",
    "    plt.xlabel(\"Importance / Coefficient\")\n",
    "    plt.ylabel(\"Features\")\n",
    "    plt.tight_layout()\n",
    "    plt.show()"
   ]
  },
  {
   "cell_type": "code",
   "execution_count": 29,
   "id": "53c9da65-3f0d-47c5-b75f-f604a0efe1c2",
   "metadata": {},
   "outputs": [
    {
     "data": {
      "image/png": "[encoded data removed]",
      "text/plain": [
       "<Figure size 800x400 with 1 Axes>"
      ]
     },
     "metadata": {},
     "output_type": "display_data"
    }
   ],
   "source": [
    "dt_model = DecisionTreeClassifier(random_state=42)\n",
    "dt_model.fit(X, y_encoded)\n",
    "plot_feature_importance(dt_model, \"Decision Tree\", X.columns)"
   ]
  },
  {
   "cell_type": "code",
   "execution_count": 30,
   "id": "21253be4-fe08-4840-b5e1-b55c1567bdad",
   "metadata": {},
   "outputs": [
    {
     "data": {
      "image/png": "[encoded data removed]",
      "text/plain": [
       "<Figure size 800x400 with 1 Axes>"
      ]
     },
     "metadata": {},
     "output_type": "display_data"
    }
   ],
   "source": [
    "rf_model = RandomForestClassifier(random_state=42)\n",
    "rf_model.fit(X, y_encoded)\n",
    "plot_feature_importance(rf_model, \"Random Forest\", X.columns)"
   ]
  },
  {
   "cell_type": "code",
   "execution_count": 33,
   "id": "e611f212",
   "metadata": {},
   "outputs": [
    {
     "data": {
      "image/png": "[encoded data removed]",
      "text/plain": [
       "<Figure size 800x400 with 1 Axes>"
      ]
     },
     "metadata": {},
     "output_type": "display_data"
    }
   ],
   "source": [
    "lr_model = LogisticRegression(max_iter=1000)\n",
    "lr_model.fit(X, y_encoded)\n",
    "plot_feature_importance(lr_model, \"Logistic Regression\", X.columns)"
   ]
  }
 ],
 "metadata": {
  "kernelspec": {
   "display_name": "base",
   "language": "python",
   "name": "python3"
  },
  "language_info": {
   "codemirror_mode": {
    "name": "ipython",
    "version": 3
   },
   "file_extension": ".py",
   "mimetype": "text/x-python",
   "name": "python",
   "nbconvert_exporter": "python",
   "pygments_lexer": "ipython3",
   "version": "3.12.7"
  }
 },
 "nbformat": 4,
 "nbformat_minor": 5
}
